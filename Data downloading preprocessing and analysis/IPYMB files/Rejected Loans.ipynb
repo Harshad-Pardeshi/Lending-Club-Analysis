{
 "cells": [
  {
   "cell_type": "code",
   "execution_count": 1,
   "metadata": {
    "collapsed": true
   },
   "outputs": [],
   "source": [
    "import urllib.request\n",
    "import requests\n",
    "import zipfile\n",
    "import io\n",
    "import os\n",
    "import glob\n",
    "import pandas as pd\n",
    "import boto\n",
    "import boto.s3\n",
    "import sys\n",
    "import luigi\n",
    "import datetime, time\n",
    "import numpy as np\n",
    "import seaborn as sns\n",
    "\n",
    "from boto.s3.key import Key\n",
    "from urllib.request import urlopen\n",
    "from bs4 import BeautifulSoup as bsoup"
   ]
  },
  {
   "cell_type": "code",
   "execution_count": 2,
   "metadata": {
    "collapsed": true
   },
   "outputs": [],
   "source": [
    "def is_file_present(directory,filename):\n",
    "    if not os.path.exists(directory):\n",
    "        os.makedirs(directory)\n",
    "    file_list = glob.glob(directory+'//*.csv')\n",
    "    for file_name_in_dir in file_list:\n",
    "        if (directory+ '\\\\' + filename) == (file_name_in_dir+\".zip\"):\n",
    "            return True\n",
    "    return False"
   ]
  },
  {
   "cell_type": "code",
   "execution_count": 3,
   "metadata": {
    "collapsed": true
   },
   "outputs": [],
   "source": [
    "def download_data(data_type):\n",
    "    base_URL = \"https://resources.lendingclub.com\"\n",
    "    url = urllib.request.urlopen(\"https://www.lendingclub.com/info/download-data.action\")\n",
    "    content = url.read()\n",
    "    soup= bsoup(content,'lxml')\n",
    "    \n",
    "    #find div by ID\n",
    "    fileNameDiv = soup.find('div',{\"id\":data_type})\n",
    "    FileList = fileNameDiv.text.rstrip(\"|\")\n",
    "\n",
    "    for fileName in FileList.split(\"|\"):\n",
    "        file_URL= base_URL+'/'+fileName\n",
    "        print(file_URL)\n",
    "        if not is_file_present(data_type,fileName):    \n",
    "            zfile = requests.get(file_URL)\n",
    "            z = zipfile.ZipFile(io.BytesIO(zfile.content))\n",
    "            z.extractall(data_type)"
   ]
  },
  {
   "cell_type": "code",
   "execution_count": 4,
   "metadata": {
    "collapsed": true
   },
   "outputs": [],
   "source": [
    "def read_data(directory):\n",
    "    fileList = glob.glob(directory+'//*.csv')\n",
    "    \n",
    "    dfList=[]\n",
    "    #columns=[\"id\",\"member_id\",\"loan_amnt\",\"funded_amnt\",\"funded_amnt_inv\",\"term\",\"int_rate\",\"installment\",\"grade\",\"sub_grade\",\"emp_title\",\"emp_length\",\"home_ownership\",\"annual_inc\",\"verification_status\",\"issue_d\",\"loan_status\",\"pymnt_plan\",\"url\",\"desc\",\"purpose\",\"title\",\"zip_code\",\"addr_state\",\"dti\",\"delinq_2yrs\",\"earliest_cr_line\",\"inq_last_6mths\",\"mths_since_last_delinq\",\"mths_since_last_record\",\"open_acc\",\"pub_rec\",\"revol_bal\",\"revol_util\",\"total_acc\",\"initial_list_status\",\"out_prncp\",\"out_prncp_inv\",\"total_pymnt\",\"total_pymnt_inv\",\"total_rec_prncp\",\"total_rec_int\",\"total_rec_late_fee\",\"recoveries\",\"collection_recovery_fee\",\"last_pymnt_d\",\"last_pymnt_amnt\",\"next_pymnt_d\",\"last_credit_pull_d\",\"collections_12_mths_ex_med\",\"mths_since_last_major_derog\",\"policy_code\",\"application_type\",\"annual_inc_joint\",\"dti_joint\",\"verification_status_joint\",\"acc_now_delinq\",\"tot_coll_amt\",\"tot_cur_bal\",\"open_acc_6m\",\"open_il_6m\",\"open_il_12m\",\"open_il_24m\",\"mths_since_rcnt_il\",\"total_bal_il\",\"il_util\",\"open_rv_12m\",\"open_rv_24m\",\"max_bal_bc\",\"all_util\",\"total_rev_hi_lim\",\"inq_fi\",\"total_cu_tl\",\n",
    "             #\"inq_last_12m\",\"acc_open_past_24mths\",\"avg_cur_bal\",\"bc_open_to_buy\",\"bc_util\",\"chargeoff_within_12_mths\",\"delinq_amnt\",\"mo_sin_old_il_acct\",\"mo_sin_old_rev_tl_op\",\"mo_sin_rcnt_rev_tl_op\",\"mo_sin_rcnt_tl\",\"mort_acc\",\"mths_since_recent_bc\",\"mths_since_recent_bc_dlq\",\"mths_since_recent_inq\",\"mths_since_recent_revol_delinq\",\"num_accts_ever_120_pd\",\"num_actv_bc_tl\",\"num_actv_rev_tl\",\"num_bc_sats\",\"num_bc_tl\",\"num_il_tl\",\"num_op_rev_tl\",\"num_rev_accts\",\"num_rev_tl_bal_gt_0\",\"num_sats\",\"num_tl_120dpd_2m\",\"num_tl_30dpd\",\"num_tl_90g_dpd_24m\",\"num_tl_op_past_12m\",\"pct_tl_nvr_dlq\",\"percent_bc_gt_75\",\"pub_rec_bankruptcies\",\"tax_liens\",\"tot_hi_cred_lim\",\"total_bal_ex_mort\",\"total_bc_limit\",\"total_il_high_credit_limit\"]\n",
    "    for filename in fileList:\n",
    "        print(filename)\n",
    "        df=pd.read_csv(filename, low_memory=False,skiprows=1)\n",
    "        print(df.shape)\n",
    "        ts = time.time()\n",
    "        df[\"download_timestamp\"] = datetime.datetime.fromtimestamp(ts).strftime('%Y-%m-%d %H:%M:%S')\n",
    "        df[\"recorded_timestamp\"] = filename.rstrip('csv').lstrip('loanStatsFileNamesJS\\\\').lstrip('rejectedLoanStatsFileNamesJS\\\\').lstrip('loanStatsFileNamesJS/').lstrip('rejectedLoanStatsFileNamesJS/').lstrip(\"LoanStats\").lstrip(\"RejectStats\").lstrip(\"_\")\n",
    "        dfList.append(df)\n",
    "    concatDf=pd.concat(dfList, axis=0)\n",
    "    #concatDf.columns=columns\n",
    "    concatDf.to_csv(directory+\"_concat_file.csv\", index=None)\n",
    "    print(concatDf.shape)\n",
    "    return concatDf"
   ]
  },
  {
   "cell_type": "code",
   "execution_count": 5,
   "metadata": {
    "collapsed": true
   },
   "outputs": [],
   "source": [
    "def missing_values_table(df):\n",
    "    mis_val = df.isnull().sum()\n",
    "    mis_val_percent = 100 * df.isnull().sum()/len(df)\n",
    "    mis_val_table = pd.concat([mis_val, mis_val_percent], axis=1)\n",
    "    mis_val_table_ren_columns = mis_val_table.rename(\n",
    "    columns = {0 : 'Missing Values', 1 : '% of Total Values'})\n",
    "    return mis_val_table_ren_columns"
   ]
  },
  {
   "cell_type": "code",
   "execution_count": 6,
   "metadata": {
    "collapsed": true
   },
   "outputs": [],
   "source": [
    "def clean_rejected_data(data):\n",
    "    x100 = data[pd.notnull(data['Risk_Score'])]\n",
    "    x10=x100.groupby(\"State\")[\"Risk_Score\"].mean().reset_index(name=\"Risk_Score_mean\")\n",
    "    x10['Risk_Score_mean'] = pd.to_numeric(x10['Risk_Score_mean'])\n",
    "\n",
    "    data[\"Employment Length Value\"]=data[\"Employment Length\"].str.extract(\"(\\d+)\",expand=True)\n",
    "    data['Employment Length Value'] = pd.to_numeric(data['Employment Length Value'])\n",
    "\n",
    "    data[\"DTI\"]=data[\"Debt-To-Income Ratio\"].str.rstrip(\"%\")\n",
    "    data['DTI'] = pd.to_numeric(data['DTI'])\n",
    "\n",
    "    x11=data.groupby(\"State\")[\"Employment Length Value\"].mean().reset_index(name=\"Employment Length Value Mean\")\n",
    "    x12=pd.merge(data,x10,how='left')\n",
    "    data=pd.merge(x12,x11,how='left')\n",
    "    \n",
    "    data[\"Risk_Score\"]=(data[\"Risk_Score_mean\"]+43).where((data[\"Risk_Score\"].isnull()) & (data[\"DTI\"]>43),data[\"Risk_Score_mean\"])\n",
    "    \n",
    "    data[\"Risk_Score\"]=(data[\"Risk_Score\"]+93).where((data[\"Risk_Score\"].isnull()) & (data[\"DTI\"]>43) &(data[\"Employment Length Value\"]<data[\"Employment Length Value Mean\"]),data[\"Risk_Score_mean\"])\n",
    "    \n",
    "    data[\"Risk_Score\"]=(data[\"Risk_Score_mean\"]).where((data[\"Risk_Score\"].isnull()),data[\"Risk_Score_mean\"])\n",
    "    \n",
    "    data['Loan Title'] = data['Loan Title'].fillna('Others')\n",
    "    \n",
    "    data['State'] = data[['State']].convert_objects(convert_numeric=True).fillna('Other')\n",
    "    \n",
    "    data['Zip Code'] = data[['Zip Code']].convert_objects(convert_numeric=True).fillna('000xx')\n",
    "    \n",
    "    #Converting to datatime format\n",
    "    data[\"Application Date\"]=pd.to_datetime(data['Application Date'])\n",
    "    data['Application Date Month'] = data['Application Date'].dt.month\n",
    "    data['Application Date Year'] = data['Application Date'].dt.year\n",
    "    return data"
   ]
  },
  {
   "cell_type": "code",
   "execution_count": 7,
   "metadata": {
    "collapsed": false
   },
   "outputs": [
    {
     "name": "stdout",
     "output_type": "stream",
     "text": [
      "https://resources.lendingclub.com/RejectStatsA.csv.zip\n",
      "https://resources.lendingclub.com/RejectStatsB.csv.zip\n",
      "https://resources.lendingclub.com/RejectStatsD.csv.zip\n",
      "https://resources.lendingclub.com/RejectStats_2016Q1.csv.zip\n",
      "https://resources.lendingclub.com/RejectStats_2016Q2.csv.zip\n",
      "https://resources.lendingclub.com/RejectStats_2016Q3.csv.zip\n",
      "https://resources.lendingclub.com/RejectStats_2016Q4.csv.zip\n",
      "rejectedLoanStatsFileNamesJS\\RejectStatsA.csv\n",
      "(755491, 9)\n",
      "rejectedLoanStatsFileNamesJS\\RejectStatsB.csv\n",
      "(2694642, 9)\n",
      "rejectedLoanStatsFileNamesJS\\RejectStatsD.csv\n",
      "(2859379, 9)\n",
      "rejectedLoanStatsFileNamesJS\\RejectStats_2016Q1.csv\n",
      "(1096204, 9)\n",
      "rejectedLoanStatsFileNamesJS\\RejectStats_2016Q2.csv\n",
      "(996561, 9)\n",
      "rejectedLoanStatsFileNamesJS\\RejectStats_2016Q3.csv\n",
      "(1272619, 9)\n",
      "rejectedLoanStatsFileNamesJS\\RejectStats_2016Q4.csv\n",
      "(1404490, 9)\n",
      "(11079386, 11)\n"
     ]
    }
   ],
   "source": [
    "rejected_loan = 'rejectedLoanStatsFileNamesJS'\n",
    "download_data(rejected_loan)\n",
    "rejectedData = read_data(rejected_loan)\n",
    "rejectedData.to_csv(\"Rejected_Loans_Combined_Data.csv\")"
   ]
  },
  {
   "cell_type": "code",
   "execution_count": 8,
   "metadata": {
    "collapsed": false
   },
   "outputs": [
    {
     "name": "stdout",
     "output_type": "stream",
     "text": [
      "Missing values in loan rejected data\n",
      "                      Missing Values  % of Total Values\n",
      "Unnamed: 0                         0           0.000000\n",
      "Amount Requested                   0           0.000000\n",
      "Application Date                   0           0.000000\n",
      "Loan Title                       197           0.001778\n",
      "Risk_Score                   6402779          57.790017\n",
      "Debt-To-Income Ratio               0           0.000000\n",
      "Zip Code                         291           0.002626\n",
      "State                             22           0.000199\n",
      "Employment Length                  0           0.000000\n",
      "Policy Code                        0           0.000000\n",
      "download_timestamp                 0           0.000000\n",
      "recorded_timestamp                 0           0.000000\n"
     ]
    },
    {
     "name": "stderr",
     "output_type": "stream",
     "text": [
      "C:\\Users\\prith\\Anaconda3\\lib\\site-packages\\ipykernel\\__main__.py:24: FutureWarning: convert_objects is deprecated.  Use the data-type specific converters pd.to_datetime, pd.to_timedelta and pd.to_numeric.\n",
      "C:\\Users\\prith\\Anaconda3\\lib\\site-packages\\ipykernel\\__main__.py:26: FutureWarning: convert_objects is deprecated.  Use the data-type specific converters pd.to_datetime, pd.to_timedelta and pd.to_numeric.\n"
     ]
    }
   ],
   "source": [
    "loanData = pd.read_csv(\"Rejected_Loans_Combined_Data.csv\", encoding= 'iso-8859-1',low_memory=False)\n",
    "#print amount of missing values\n",
    "print('Missing values in loan rejected data')\n",
    "print(missing_values_table(loanData))\n",
    "loanData = clean_rejected_data(loanData)\n",
    "#Write clean data to new CSV\n",
    "loanData.to_csv(\"Cleaned_Rejected_Loans_Combined_Data.csv\")"
   ]
  },
  {
   "cell_type": "code",
   "execution_count": null,
   "metadata": {
    "collapsed": true
   },
   "outputs": [],
   "source": [
    "AWS_ACCESS_KEY_ID = input(\"Please enter AWS access key\")\n",
    "AWS_SECRET_ACCESS_KEY = input(\"Please enter AWS secret key\")\n",
    "\n",
    "bucket_name = 'lending-club-analysis'\n",
    "\n",
    "conn = boto.connect_s3(AWS_ACCESS_KEY_ID,\n",
    "        AWS_SECRET_ACCESS_KEY)\n",
    "\n",
    "bucket = conn.create_bucket(bucket_name,\n",
    "    location=boto.s3.connection.Location.DEFAULT)\n",
    "\n",
    "   \n",
    "file = \"Cleaned_Rejected_Loans_Combined_Data.csv\"\n",
    "print ('Uploading %s to Amazon S3 bucket %s' % \\\n",
    "   (file, bucket_name))\n",
    "\n",
    "def percent_cb(complete, total):\n",
    "    sys.stdout.write('.')\n",
    "    sys.stdout.flush()\n",
    "\n",
    "k = Key(bucket)\n",
    "k.key = file\n",
    "k.set_contents_from_filename(file,\n",
    "    cb=percent_cb, num_cb=10)"
   ]
  }
 ],
 "metadata": {
  "anaconda-cloud": {},
  "kernelspec": {
   "display_name": "Python [default]",
   "language": "python",
   "name": "python3"
  },
  "language_info": {
   "codemirror_mode": {
    "name": "ipython",
    "version": 3
   },
   "file_extension": ".py",
   "mimetype": "text/x-python",
   "name": "python",
   "nbconvert_exporter": "python",
   "pygments_lexer": "ipython3",
   "version": "3.5.2"
  }
 },
 "nbformat": 4,
 "nbformat_minor": 1
}
