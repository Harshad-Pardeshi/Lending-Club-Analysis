{
 "cells": [
  {
   "cell_type": "code",
   "execution_count": null,
   "metadata": {
    "collapsed": true
   },
   "outputs": [],
   "source": [
    "import urllib.request\n",
    "import requests\n",
    "import zipfile\n",
    "import io\n",
    "import os\n",
    "import glob\n",
    "import pandas as pd\n",
    "import boto\n",
    "import boto.s3\n",
    "import sys\n",
    "import luigi\n",
    "import datetime, time\n",
    "\n",
    "import csv\n",
    "import pandas as pd\n",
    "import numpy as np\n",
    "from pandas import DataFrame\n",
    "import matplotlib.pyplot as plt\n",
    "import seaborn as sns\n",
    "\n",
    "from boto.s3.key import Key\n",
    "from urllib.request import urlopen\n",
    "from bs4 import BeautifulSoup as bsoup"
   ]
  },
  {
   "cell_type": "code",
   "execution_count": null,
   "metadata": {
    "collapsed": true
   },
   "outputs": [],
   "source": [
    "def is_file_present(directory,filename):\n",
    "    if not os.path.exists(directory):\n",
    "        os.makedirs(directory)\n",
    "    file_list = glob.glob(directory+'//*.csv')\n",
    "    for file_name_in_dir in file_list:\n",
    "        if (directory+ '\\\\' + filename) == (file_name_in_dir+\".zip\"):\n",
    "            return True\n",
    "    return False"
   ]
  },
  {
   "cell_type": "code",
   "execution_count": null,
   "metadata": {
    "collapsed": true
   },
   "outputs": [],
   "source": [
    "def download_data(data_type):\n",
    "    base_URL = \"https://resources.lendingclub.com\"\n",
    "    url = urllib.request.urlopen(\"https://www.lendingclub.com/info/download-data.action\")\n",
    "    content = url.read()\n",
    "    soup= bsoup(content,'lxml')\n",
    "    \n",
    "    #find div by ID\n",
    "    fileNameDiv = soup.find('div',{\"id\":data_type})\n",
    "    FileList = fileNameDiv.text.rstrip(\"|\")\n",
    "\n",
    "    for fileName in FileList.split(\"|\"):\n",
    "        file_URL= base_URL+'/'+fileName\n",
    "        print(file_URL)\n",
    "        if not is_file_present(data_type,fileName):    \n",
    "            zfile = requests.get(file_URL)\n",
    "            z = zipfile.ZipFile(io.BytesIO(zfile.content))\n",
    "            z.extractall(data_type)"
   ]
  },
  {
   "cell_type": "code",
   "execution_count": null,
   "metadata": {
    "collapsed": true
   },
   "outputs": [],
   "source": [
    "def read_data(directory):\n",
    "    fileList = glob.glob(directory+'//*.csv')\n",
    "    \n",
    "    dfList=[]\n",
    "    #columns=[\"id\",\"member_id\",\"loan_amnt\",\"funded_amnt\",\"funded_amnt_inv\",\"term\",\"int_rate\",\"installment\",\"grade\",\"sub_grade\",\"emp_title\",\"emp_length\",\"home_ownership\",\"annual_inc\",\"verification_status\",\"issue_d\",\"loan_status\",\"pymnt_plan\",\"url\",\"desc\",\"purpose\",\"title\",\"zip_code\",\"addr_state\",\"dti\",\"delinq_2yrs\",\"earliest_cr_line\",\"inq_last_6mths\",\"mths_since_last_delinq\",\"mths_since_last_record\",\"open_acc\",\"pub_rec\",\"revol_bal\",\"revol_util\",\"total_acc\",\"initial_list_status\",\"out_prncp\",\"out_prncp_inv\",\"total_pymnt\",\"total_pymnt_inv\",\"total_rec_prncp\",\"total_rec_int\",\"total_rec_late_fee\",\"recoveries\",\"collection_recovery_fee\",\"last_pymnt_d\",\"last_pymnt_amnt\",\"next_pymnt_d\",\"last_credit_pull_d\",\"collections_12_mths_ex_med\",\"mths_since_last_major_derog\",\"policy_code\",\"application_type\",\"annual_inc_joint\",\"dti_joint\",\"verification_status_joint\",\"acc_now_delinq\",\"tot_coll_amt\",\"tot_cur_bal\",\"open_acc_6m\",\"open_il_6m\",\"open_il_12m\",\"open_il_24m\",\"mths_since_rcnt_il\",\"total_bal_il\",\"il_util\",\"open_rv_12m\",\"open_rv_24m\",\"max_bal_bc\",\"all_util\",\"total_rev_hi_lim\",\"inq_fi\",\"total_cu_tl\",\n",
    "             #\"inq_last_12m\",\"acc_open_past_24mths\",\"avg_cur_bal\",\"bc_open_to_buy\",\"bc_util\",\"chargeoff_within_12_mths\",\"delinq_amnt\",\"mo_sin_old_il_acct\",\"mo_sin_old_rev_tl_op\",\"mo_sin_rcnt_rev_tl_op\",\"mo_sin_rcnt_tl\",\"mort_acc\",\"mths_since_recent_bc\",\"mths_since_recent_bc_dlq\",\"mths_since_recent_inq\",\"mths_since_recent_revol_delinq\",\"num_accts_ever_120_pd\",\"num_actv_bc_tl\",\"num_actv_rev_tl\",\"num_bc_sats\",\"num_bc_tl\",\"num_il_tl\",\"num_op_rev_tl\",\"num_rev_accts\",\"num_rev_tl_bal_gt_0\",\"num_sats\",\"num_tl_120dpd_2m\",\"num_tl_30dpd\",\"num_tl_90g_dpd_24m\",\"num_tl_op_past_12m\",\"pct_tl_nvr_dlq\",\"percent_bc_gt_75\",\"pub_rec_bankruptcies\",\"tax_liens\",\"tot_hi_cred_lim\",\"total_bal_ex_mort\",\"total_bc_limit\",\"total_il_high_credit_limit\"]\n",
    "    for filename in fileList:\n",
    "        print(filename)\n",
    "        df=pd.read_csv(filename, low_memory=False,skiprows=1)\n",
    "        print(df.shape)\n",
    "        ts = time.time()\n",
    "        df[\"download_timestamp\"] = datetime.datetime.fromtimestamp(ts).strftime('%Y-%m-%d %H:%M:%S')\n",
    "        df[\"recorded_timestamp\"] = filename.rstrip('csv').lstrip('loanStatsFileNamesJS\\\\').lstrip('rejectedLoanStatsFileNamesJS\\\\').lstrip('loanStatsFileNamesJS/').lstrip('rejectedLoanStatsFileNamesJS/').lstrip(\"LoanStats\").lstrip(\"RejectStats\").lstrip(\"_\")\n",
    "        dfList.append(df)\n",
    "    concatDf=pd.concat(dfList, axis=0)\n",
    "    #concatDf.columns=columns\n",
    "    concatDf.to_csv(directory+\"_concat_file.csv\", index=None)\n",
    "    print(concatDf.shape)\n",
    "    return concatDf"
   ]
  },
  {
   "cell_type": "code",
   "execution_count": null,
   "metadata": {
    "collapsed": true
   },
   "outputs": [],
   "source": [
    "def missing_values_table(df):\n",
    "       mis_val = df.isnull().sum()\n",
    "       mis_val_percent = 100 * df.isnull().sum()/len(df)\n",
    "       mis_val_table = pd.concat([mis_val, mis_val_percent], axis=1)\n",
    "       mis_val_table_ren_columns = mis_val_table.rename(\n",
    "       columns = {0 : 'Missing Values', 1 : '% of Total Values'})\n",
    "       return mis_val_table_ren_columns"
   ]
  },
  {
   "cell_type": "code",
   "execution_count": null,
   "metadata": {
    "collapsed": true
   },
   "outputs": [],
   "source": [
    "def getAmazonS3keys():\n",
    "    #Taking data from user\n",
    "    access_key = input(\"Please enter your Amazon S3 Access Key ID:\")\n",
    "    secret_key = input(\"Please enter your Amazon S3 Secret Access Key:\")\n",
    "    return access_key,secret_key"
   ]
  },
  {
   "cell_type": "code",
   "execution_count": null,
   "metadata": {
    "collapsed": true
   },
   "outputs": [],
   "source": [
    "def clean_approved_data(loanData):\n",
    "    \n",
    "    loanData = loanData[pd.notnull(loanData['loan_amnt'])]\n",
    "    \n",
    "    #delete columns which are of no use\n",
    "    del loanData['emp_title']\n",
    "    del loanData['desc']\n",
    "    del loanData['last_pymnt_d']\n",
    "    del loanData['next_pymnt_d']\n",
    "    del loanData['last_credit_pull_d']\n",
    "    \n",
    "    #Converting to datatime format\n",
    "    loanData[\"issue_d\"]=pd.to_datetime(loanData['issue_d'])\n",
    "    loanData[\"earliest_cr_line\"]=pd.to_datetime(loanData['earliest_cr_line'])\n",
    "    #adding Issue_Month and Issue_Year columns\n",
    "    loanData['issue_month'] = loanData['issue_d'].dt.month\n",
    "    loanData['issue_year'] = loanData['issue_d'].dt.year\n",
    "\n",
    "    #Deriving Credit age for every customer\n",
    "    loanData[\"credit_age\"]=loanData[\"issue_d\"]-loanData[\"earliest_cr_line\"]\n",
    "\n",
    "    #Derivinf Lending club interest rate\n",
    "    loanData[\"num_il_tl\"]=loanData[\"num_il_tl\"].fillna(0)\n",
    "    loanData[\"num_rev_accts\"]=loanData[\"num_rev_accts\"].fillna(0)\n",
    "    loanData[\"Lending_Club_Interest\"]=loanData[\"total_pymnt\"]-loanData[\"total_pymnt_inv\"]\n",
    "    \n",
    "    #Format Interest_Rate\n",
    "    loanData[\"Interest_Rate\"]=loanData[\"int_rate\"].str.rstrip(\"%\")\n",
    "    loanData['Interest_Rate'] = loanData['Interest_Rate'].convert_objects(convert_numeric=True)\n",
    "    \n",
    "    #Modifying emp_length\n",
    "    loanData[\"derived_emp_length\"]=loanData[\"emp_length\"]\n",
    "    loanData.derived_emp_length[loanData.derived_emp_length==\"10+ years\"]=\"10\"\n",
    "    loanData.derived_emp_length[loanData.derived_emp_length==\"< 1 year\"]=\"0\"\n",
    "    loanData['derived_emp_length'] = loanData.derived_emp_length.str.replace(' years?' , '')\n",
    "\n",
    "    #Modifying title by personal\n",
    "    loanData['derived_title'] = loanData['title']\n",
    "    loanData['derived_title'] = loanData['derived_title'].fillna('personal')\n",
    "    \n",
    "    #mths_since_last_delinq - replace by 24 if delinq_2yrs = 0\n",
    "    loanData['derived_mths_since_last_delinq'] = loanData['mths_since_last_delinq']\n",
    "    loanData['derived_mths_since_last_delinq'] = loanData['derived_mths_since_last_delinq'].fillna(1000)\n",
    "    \n",
    "    b1 = loanData.id.where(loanData.delinq_2yrs == 0)\n",
    "    b2 = loanData.id.where(loanData.derived_mths_since_last_delinq == 1000)\n",
    "    b3 = set(b1).intersection(b2)\n",
    "    for i in b3:\n",
    "        for j in loanData.id:\n",
    "            if i==j:\n",
    "                loanData.derived_mths_since_last_delinq[loanData.id == j] = 24\n",
    "    \n",
    "    #mths_since_last_record - replace blanks by -1, which indicates that a borrower doesn't have any public record\n",
    "    loanData['derived_mths_since_last_record'] = loanData['mths_since_last_record']\n",
    "    loanData['derived_mths_since_last_record'] = loanData['derived_mths_since_last_record'].fillna(-1)\n",
    "    \n",
    "    #annual_inc - there are 4 blank records, each doesn't have a employer so replacing it with zero\n",
    "    loanData['derived_annual_inc'] = loanData['annual_inc']\n",
    "    loanData['derived_annual_inc'] = loanData['derived_annual_inc'].fillna(0)\n",
    "    \n",
    "    #delinq_2yrs - delinq_2yrs has the max value of 39. Whereas the delinq_2yrs is null for all people which does not meet the\n",
    "    # credit policy is not valid and who status is Not Verified. So we are taking the mean of all the \n",
    "    loanData['derived_delinq_2yrs'] = loanData['delinq_2yrs']\n",
    "    loanData['delinq_2yrs'] = loanData['delinq_2yrs'].fillna(100)\n",
    "    \n",
    "    #delinq_amnt - Replacing this by 0, because 99.98% of the values is zero. Negligible rows has some other values\n",
    "    loanData['derived_delinq_amnt'] = loanData['delinq_amnt']\n",
    "    loanData['derived_delinq_amnt'] = loanData['derived_delinq_amnt'].fillna(0)\n",
    "    \n",
    "    #revol_util - Replaced it with the mean\n",
    "    loanData['derived_revol_util'] = loanData['revol_util']\n",
    "    loanData[\"derived_revol_util\"] = loanData[\"derived_revol_util\"].str.rstrip(\"%\")\n",
    "    loanData['derived_revol_util'] = loanData['derived_revol_util'].convert_objects(convert_numeric=True)\n",
    "    loanData['derived_revol_util'] = loanData['derived_revol_util'].fillna((loanData['derived_revol_util'].mean()))\n",
    "\n",
    "    #pub_rec_bankruptcies - Replace this by the mean as all are non verified and does not meet the credit policy.\n",
    "    loanData['derived_pub_rec_bankruptcies'] = loanData['pub_rec_bankruptcies']\n",
    "    loanData['derived_pub_rec_bankruptcies'] = loanData['derived_pub_rec_bankruptcies'].fillna(loanData['derived_pub_rec_bankruptcies'].mean())\n",
    "\n",
    "    #tax_liens\n",
    "    loanData['derived_tax_liens'] = loanData['tax_liens']\n",
    "    loanData['derived_tax_liens'] = loanData['derived_tax_liens'].fillna(loanData['derived_tax_liens'].mean())\n",
    "\n",
    "    #interest_rate\n",
    "    loanData['derived_int_rate'] = loanData['int_rate']\n",
    "    loanData[\"derived_int_rate\"] = loanData[\"derived_int_rate\"].str.rstrip(\"%\")\n",
    "    loanData['derived_int_rate'] = loanData['derived_int_rate'].convert_objects(convert_numeric=True)\n",
    "    \n",
    "    #FICO\n",
    "    loanData[\"FICO\"]=(loanData[\"last_fico_range_high\"]+loanData[\"last_fico_range_low\"])/2\n",
    "    loanData[\"FICO\"] = loanData[['FICO']].convert_objects(convert_numeric=True).fillna(300)\n",
    "    \n",
    "    #Total_Acc\n",
    "    loanData[\"total_acc\"] = loanData[['total_acc']].convert_objects(convert_numeric=True).fillna(loanData[\"total_acc\"].mean())\n",
    "    \n",
    "    #Account open past 24 months\n",
    "    loanData[\"acc_open_past_24mths\"] = loanData[['acc_open_past_24mths']].convert_objects(convert_numeric=True).fillna(loanData[\"acc_open_past_24mths\"].mean())\n",
    "    \n",
    "    #Taking only numeric values from term\n",
    "    loanData[\"Derived_term\"]=loanData[\"term\"].str.extract(\"(\\d+) months\",expand=True)\n",
    "    loanData[\"Derived_term\"] = loanData[['Derived_term']].convert_objects(convert_numeric=True)\n",
    "    \n",
    "    return loanData\n",
    "    #loanData.to_csv(\"Approved_Loans_clean_file.csv\", sep=\",\")"
   ]
  },
  {
   "cell_type": "code",
   "execution_count": null,
   "metadata": {
    "collapsed": true
   },
   "outputs": [],
   "source": [
    "def analysize_approved_data(data):\n",
    "\n",
    "    import csv\n",
    "    import pandas as pd\n",
    "    import numpy as np\n",
    "    from pandas import DataFrame\n",
    "    import matplotlib.pyplot as plt\n",
    "    import seaborn as sns\n",
    "    \n",
    "    #Analysis 1: Month-wise count of number of loans issued\n",
    "    result1=data.groupby([\"issue_month\"])[\"id\"].count().reset_index(name=\"Count\").sort_values([\"issue_month\"])\n",
    "    result1.plot(x=\"issue_month\",y=\"Count\",kind=\"bar\",title=\"Month-wise count of number of loans issued\")\n",
    "    plt.show()\n",
    "    \n",
    "    #Analysis 2: State-wise count of number of loans issued\n",
    "    result2=data.groupby(\"addr_state\")[\"id\"].count().reset_index(name=\"Count\").sort_values(\"Count\",ascending=True)\n",
    "    result2.plot(x=\"addr_state\",y=\"Count\",kind=\"bar\",title=\"State-wise count of number of loans issued\")\n",
    "    plt.show()\n",
    "    \n",
    "    #Analysis : Month wise number of loans issued in CA\n",
    "    x1=data[data[\"addr_state\"]==\"CA\"]\n",
    "    x2=x1.groupby([\"issue_month\"])[\"id\"].count().reset_index(name=\"Count\").sort_values([\"issue_month\"])\n",
    "    x2.plot(x=\"issue_month\",y=\"Count\",kind=\"bar\",title=\"Month wise number of loans issued in CA\")\n",
    "    plt.show()\n",
    "    \n",
    "    #Analysis 3: Frequency for every grade and sub-grade\n",
    "    result3=data.groupby([\"grade\",\"sub_grade\"])[\"id\"].count().reset_index(name=\"Count\")\n",
    "    result3.plot(x=\"sub_grade\",y=\"Count\",kind=\"line\",title=\"Title3\")\n",
    "    plt.show()\n",
    "    \n",
    "    #Analysis 4: Loan purpose for all members\n",
    "    result4=data.groupby(\"purpose\")[\"id\"].count().reset_index(name=\"Count\").sort_values(\"Count\",ascending=False)\n",
    "    result4.plot(x=\"purpose\",y=\"Count\",kind=\"pie\",title=\"Title4\")\n",
    "    plt.show()\n",
    "    \n",
    "    #Analysis 5: Mean Interest Rate for every Verification  status\n",
    "    g1 = sns.barplot(x=\"issue_year\", y=\"Interest_Rate\", hue=\"verification_status\", data=data)\n",
    "    sns.plt.show()\n",
    "    \n",
    "    #Analysis 6: House ownership status for all members\n",
    "    g = sns.barplot(x=\"issue_year\", y=\"Interest_Rate\", hue=\"home_ownership\", data=data)\n",
    "    sns.plt.show()"
   ]
  },
  {
   "cell_type": "code",
   "execution_count": null,
   "metadata": {
    "collapsed": false,
    "scrolled": true
   },
   "outputs": [],
   "source": [
    "loan_data = 'loanStatsFileNamesJS'\n",
    "download_data(loan_data)\n",
    "loanData = read_data(loan_data)\n",
    "loanData.to_csv(\"Approved_Loans_Combined_Data.csv\", sep=\",\")"
   ]
  },
  {
   "cell_type": "code",
   "execution_count": null,
   "metadata": {
    "collapsed": false,
    "scrolled": true
   },
   "outputs": [],
   "source": [
    "loanData = pd.read_csv(\"Approved_Loans_Combined_Data.csv\", encoding= 'iso-8859-1',low_memory=False)\n",
    "print('Missing values in loan approved data')\n",
    "print(missing_values_table(loanData))\n",
    "loanData = clean_approved_data(loanData)\n",
    "#Write clean data to new CSV\n",
    "loanData.to_csv(\"Cleaned_Approved_Loans_Combined_Data.csv\", sep=\",\")"
   ]
  },
  {
   "cell_type": "code",
   "execution_count": null,
   "metadata": {
    "collapsed": false
   },
   "outputs": [],
   "source": [
    "loanData = pd.read_csv(\"Cleaned_Approved_Loans_Combined_Data.csv\", encoding= 'iso-8859-1',low_memory=False)\n",
    "analysize_approved_data(loanData)"
   ]
  },
  {
   "cell_type": "code",
   "execution_count": null,
   "metadata": {
    "collapsed": false
   },
   "outputs": [],
   "source": [
    "AWS_ACCESS_KEY_ID = input(\"Please enter AWS access key\")\n",
    "AWS_SECRET_ACCESS_KEY = input(\"Please enter AWS secret key\")\n",
    "\n",
    "bucket_name = 'lending-club-analysis'\n",
    "\n",
    "conn = boto.connect_s3(AWS_ACCESS_KEY_ID,\n",
    "        AWS_SECRET_ACCESS_KEY)\n",
    "\n",
    "bucket = conn.create_bucket(bucket_name,\n",
    "    location=boto.s3.connection.Location.DEFAULT)\n",
    "\n",
    "   \n",
    "file = \"Cleaned_Approved_loans_combinedData.csv\"\n",
    "print ('Uploading %s to Amazon S3 bucket %s' % \\\n",
    "   (file, bucket_name))\n",
    "\n",
    "def percent_cb(complete, total):\n",
    "    sys.stdout.write('.')\n",
    "    sys.stdout.flush()\n",
    "\n",
    "k = Key(bucket)\n",
    "k.key = file\n",
    "k.set_contents_from_filename(file,\n",
    "    cb=percent_cb, num_cb=10)"
   ]
  },
  {
   "cell_type": "code",
   "execution_count": null,
   "metadata": {
    "collapsed": true
   },
   "outputs": [],
   "source": []
  }
 ],
 "metadata": {
  "anaconda-cloud": {},
  "kernelspec": {
   "display_name": "Python [default]",
   "language": "python",
   "name": "python3"
  },
  "language_info": {
   "codemirror_mode": {
    "name": "ipython",
    "version": 3
   },
   "file_extension": ".py",
   "mimetype": "text/x-python",
   "name": "python",
   "nbconvert_exporter": "python",
   "pygments_lexer": "ipython3",
   "version": "3.5.2"
  }
 },
 "nbformat": 4,
 "nbformat_minor": 1
}
