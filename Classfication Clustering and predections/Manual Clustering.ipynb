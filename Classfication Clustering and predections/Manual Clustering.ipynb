{
 "cells": [
  {
   "cell_type": "code",
   "execution_count": null,
   "metadata": {
    "collapsed": true
   },
   "outputs": [],
   "source": [
    "import pandas as pd\n",
    "import numpy as np"
   ]
  },
  {
   "cell_type": "code",
   "execution_count": null,
   "metadata": {
    "collapsed": true
   },
   "outputs": [],
   "source": [
    "data=pd.read_csv('C:\\\\Users\\\\prith\\\\Documents\\\\Python Scripts\\\\ads assignment2\\\\ClusterInputData.csv', sep=',' , encoding='latin-1')"
   ]
  },
  {
   "cell_type": "code",
   "execution_count": null,
   "metadata": {
    "collapsed": false
   },
   "outputs": [],
   "source": [
    "#states distributed according to cash solvency\n",
    "state1=[\"AK\",\"SD\",\"FL\",\"ND\",\"OH\",\"UT\",\"MT\",\"WY\",\"NE\",\"TN\",\"AL\",\"MO\",\"OK\",\"ID\",\"AR\",\"NV\",\"SC\"]\n",
    "state2=[\"WA\",\"MS\",\"DE\",\"LA\",\"MN\",\"HI\",\"OR\",\"NM\",\"GA\",\"IA\",\"VA\",\"IN\",\"VT\",\"KS\",\"WV\",\"TX\",\"MI\"]\n",
    "state3=[\"CO\",\"WI\",\"NC\",\"NJ\",\"NH\",\"KY\",\"RI\",\"NY\",\"MD\",\"ME\",\"AZ\",\"PA\",\"CA\",\"IL\",\"CT\",\"MA\",\"PR\"]\n",
    "  \n",
    "data[\"count\"]=0\n",
    "data[\"FICO\"] = data[['FICO']].convert_objects(convert_numeric=True)\n",
    "data[\"count\"]=(data[\"count\"]+1).where((300.0<=data[\"FICO\"]),data[\"count\"])\n",
    "data[\"count\"]=(data[\"count\"]+1).where((449<=data[\"FICO\"]),data[\"count\"])\n",
    "data[\"count\"]=(data[\"count\"]+1).where((649<=data[\"FICO\"]),data[\"count\"])\n",
    "\n",
    "data[\"derived_emp_length\"] = data[['derived_emp_length']].convert_objects(convert_numeric=True)\n",
    "data[\"count\"]=(data[\"count\"]+1).where((0<=data[\"derived_emp_length\"]),data[\"count\"])\n",
    "data[\"count\"]=(data[\"count\"]+1).where((4<=data[\"derived_emp_length\"]),data[\"count\"])\n",
    "data[\"count\"]=(data[\"count\"]+1).where((8<=data[\"derived_emp_length\"]),data[\"count\"])\n",
    "\n",
    "data[\"count\"]=(data[\"count\"]+1).where((data[\"Derived_term\"]==36),data[\"count\"])\n",
    "data[\"count\"]=(data[\"count\"]+1).where((data[\"Derived_term\"]==60) & (449<=data[\"FICO\"]),data[\"count\"])\n",
    "data[\"count\"]=(data[\"count\"]+1).where((data[\"Derived_term\"]==60) & (649<=data[\"FICO\"]),data[\"count\"])\n",
    "\n",
    "data[\"count\"]=(data[\"count\"]+1).where(data[\"addr_state\"].isin(state1),data[\"count\"])\n",
    "data[\"count\"]=(data[\"count\"]+2).where(data[\"addr_state\"].isin(state2),data[\"count\"])\n",
    "data[\"count\"]=(data[\"count\"]+3).where(data[\"addr_state\"].isin(state3),data[\"count\"])"
   ]
  },
  {
   "cell_type": "code",
   "execution_count": null,
   "metadata": {
    "collapsed": false
   },
   "outputs": [],
   "source": [
    "dataCluster1=data.loc[data[\"count\"].isin(np.arange(0,6))]\n",
    "dataCluster2=data.loc[data[\"count\"].isin(np.arange(6,10))]\n",
    "dataCluster3=data.loc[data[\"count\"].isin(np.arange(10,13))]"
   ]
  },
  {
   "cell_type": "code",
   "execution_count": null,
   "metadata": {
    "collapsed": false
   },
   "outputs": [],
   "source": [
    "dataCluster1.to_csv(\"ManualCluster1.csv\")\n",
    "dataCluster2.to_csv(\"ManualCluster2.csv\")\n",
    "dataCluster3.to_csv(\"ManualCluster3.csv\")"
   ]
  },
  {
   "cell_type": "code",
   "execution_count": null,
   "metadata": {
    "collapsed": true
   },
   "outputs": [],
   "source": []
  }
 ],
 "metadata": {
  "anaconda-cloud": {},
  "kernelspec": {
   "display_name": "Python [default]",
   "language": "python",
   "name": "python3"
  },
  "language_info": {
   "codemirror_mode": {
    "name": "ipython",
    "version": 3
   },
   "file_extension": ".py",
   "mimetype": "text/x-python",
   "name": "python",
   "nbconvert_exporter": "python",
   "pygments_lexer": "ipython3",
   "version": "3.5.2"
  }
 },
 "nbformat": 4,
 "nbformat_minor": 1
}
