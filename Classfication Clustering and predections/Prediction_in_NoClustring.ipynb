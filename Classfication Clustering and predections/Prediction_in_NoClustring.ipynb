{
 "cells": [
  {
   "cell_type": "code",
   "execution_count": null,
   "metadata": {
    "collapsed": false
   },
   "outputs": [],
   "source": [
    "import operator\n",
    "import pandas as pd\n",
    "import numpy as np\n",
    "from sklearn import preprocessing\n",
    "from sklearn.linear_model import LinearRegression\n",
    "from sklearn.feature_selection import RFE\n",
    "from sklearn.model_selection import cross_val_score\n",
    "from sklearn.metrics import mean_squared_error, mean_absolute_error\n",
    "from sklearn.ensemble import RandomForestRegressor\n",
    "from sklearn.neighbors import KNeighborsRegressor\n",
    "from sklearn.neural_network import MLPRegressor\n",
    "# this allows plots to appear directly in the notebook %matplotlib inline\n",
    "import os, sys\n",
    "import random\n",
    "import sklearn\n",
    "\n",
    "from sklearn import cross_validation"
   ]
  },
  {
   "cell_type": "code",
   "execution_count": null,
   "metadata": {
    "collapsed": false
   },
   "outputs": [],
   "source": [
    "data = pd.read_csv(\"ClusterInputData.csv\",delimiter=',')"
   ]
  },
  {
   "cell_type": "code",
   "execution_count": null,
   "metadata": {
    "collapsed": false
   },
   "outputs": [],
   "source": [
    "from sklearn.preprocessing import LabelEncoder\n",
    "number = LabelEncoder()\n",
    "\n",
    "data['sub_grade'] = number.fit_transform(data['sub_grade'].astype('str'))\n",
    "data['application_type'] = number.fit_transform(data['application_type'].astype('str'))\n",
    "data['addr_state'] = number.fit_transform(data['addr_state'].astype('str'))\n",
    "data['home_ownership'] = number.fit_transform(data['home_ownership'].astype('str'))\n",
    "data['verification_status'] = number.fit_transform(data['verification_status'].astype('str'))\n",
    "data['derived_emp_length'] = number.fit_transform(data['derived_emp_length'].astype('str'))\n",
    "\n"
   ]
  },
  {
   "cell_type": "code",
   "execution_count": null,
   "metadata": {
    "collapsed": false
   },
   "outputs": [],
   "source": [
    "train, test = sklearn.cross_validation.train_test_split(data, train_size = 0.8)"
   ]
  },
  {
   "cell_type": "code",
   "execution_count": null,
   "metadata": {
    "collapsed": true
   },
   "outputs": [],
   "source": [
    "def calc_error(modelname, model, X_train, y_train, X_test, y_test):\n",
    "        global error_metric\n",
    "        y_train_predicted = model.predict(X_train)\n",
    "        y_test_predicted = model.predict(X_test)\n",
    "        \n",
    "        #MAE, RMS, MAPE\n",
    "        print(modelname,\"mean_squared_error train : \",mean_squared_error(y_train, y_train_predicted))\n",
    "        print(modelname,'mean_squared_error test : ',mean_squared_error(y_test, y_test_predicted))\n",
    "        \n",
    "        print(modelname,'mean_absolute_error train : ',mean_absolute_error(y_train, y_train_predicted))\n",
    "        print(modelname,'mean_absolute_error : ',mean_absolute_error(y_test, y_test_predicted))\n",
    "        \n",
    "        print(modelname,'mean_absolute_percent_error train : ',np.mean(np.abs((y_train - y_train_predicted) / y_train)) * 100)\n",
    "        print(modelname,'mean_absolute_percent_error test :',np.mean(np.abs((y_test - y_test_predicted) / y_test)) * 100)\n",
    "        "
   ]
  },
  {
   "cell_type": "code",
   "execution_count": null,
   "metadata": {
    "collapsed": false
   },
   "outputs": [],
   "source": [
    "X_train = train.drop(['Unnamed: 0','derived_int_rate'], axis=1)"
   ]
  },
  {
   "cell_type": "code",
   "execution_count": null,
   "metadata": {
    "collapsed": true
   },
   "outputs": [],
   "source": [
    "y_train = train['derived_int_rate']"
   ]
  },
  {
   "cell_type": "code",
   "execution_count": null,
   "metadata": {
    "collapsed": true
   },
   "outputs": [],
   "source": [
    "X_test = train.drop(['Unnamed: 0','derived_int_rate'],axis=1)"
   ]
  },
  {
   "cell_type": "code",
   "execution_count": null,
   "metadata": {
    "collapsed": true
   },
   "outputs": [],
   "source": [
    "y_test = train['derived_int_rate']"
   ]
  },
  {
   "cell_type": "code",
   "execution_count": null,
   "metadata": {
    "collapsed": false
   },
   "outputs": [],
   "source": [
    "lr = LinearRegression()\n",
    "lr.fit(X_train, y_train)\n",
    "calc_error('Regression', lr, X_train, y_train, X_test, y_test)\n",
    "print('Regression completed')"
   ]
  },
  {
   "cell_type": "code",
   "execution_count": null,
   "metadata": {
    "collapsed": false
   },
   "outputs": [],
   "source": [
    "rf = RandomForestRegressor(n_estimators=20)\n",
    "rf.fit(X_train, y_train)\n",
    "calc_error('RandomForest', rf, X_train, y_train, X_test, y_test)"
   ]
  },
  {
   "cell_type": "code",
   "execution_count": null,
   "metadata": {
    "collapsed": false
   },
   "outputs": [],
   "source": [
    "knn = KNeighborsRegressor(n_neighbors=13)\n",
    "knn.fit(X_train, y_train)\n",
    "calc_error('KNN', knn, X_train, y_train, X_test, y_test)"
   ]
  },
  {
   "cell_type": "code",
   "execution_count": null,
   "metadata": {
    "collapsed": true
   },
   "outputs": [],
   "source": [
    "nn = MLPRegressor()\n",
    "nn.fit(X_train, y_train)\n",
    "calc_error_metric('Nueral Network', nn, X_train_org, y_train, X_test_org, y_test)"
   ]
  },
  {
   "cell_type": "code",
   "execution_count": null,
   "metadata": {
    "collapsed": true
   },
   "outputs": [],
   "source": []
  }
 ],
 "metadata": {
  "kernelspec": {
   "display_name": "Python [conda root]",
   "language": "python",
   "name": "conda-root-py"
  },
  "language_info": {
   "codemirror_mode": {
    "name": "ipython",
    "version": 3
   },
   "file_extension": ".py",
   "mimetype": "text/x-python",
   "name": "python",
   "nbconvert_exporter": "python",
   "pygments_lexer": "ipython3",
   "version": "3.5.2"
  }
 },
 "nbformat": 4,
 "nbformat_minor": 2
}
