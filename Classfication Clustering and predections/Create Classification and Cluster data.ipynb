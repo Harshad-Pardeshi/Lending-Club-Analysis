{
 "cells": [
  {
   "cell_type": "code",
   "execution_count": null,
   "metadata": {
    "collapsed": true
   },
   "outputs": [],
   "source": [
    "import urllib.request\n",
    "import requests\n",
    "import zipfile\n",
    "import io\n",
    "import os\n",
    "import glob\n",
    "import pandas as pd\n",
    "import boto\n",
    "import boto.s3\n",
    "import sys\n",
    "import luigi\n",
    "import datetime, time\n",
    "\n",
    "import csv\n",
    "import pandas as pd\n",
    "import numpy as np\n",
    "from pandas import DataFrame\n",
    "import matplotlib.pyplot as plt\n",
    "import seaborn as sns\n",
    "\n",
    "from boto.s3.key import Key\n",
    "from urllib.request import urlopen\n",
    "from bs4 import BeautifulSoup as bsoup"
   ]
  },
  {
   "cell_type": "code",
   "execution_count": null,
   "metadata": {
    "collapsed": false
   },
   "outputs": [],
   "source": [
    "loanData=pd.read_csv(\"Cleaned_Approved_Loans_Combined_Data.csv\",encoding = \"ISO-8859-1\")"
   ]
  },
  {
   "cell_type": "code",
   "execution_count": null,
   "metadata": {
    "collapsed": true
   },
   "outputs": [],
   "source": [
    "loanData[\"LoanApproved\"]=1\n",
    "loanData[\"LoanApproved\"]=(loanData[\"LoanApproved\"]-1).where(loanData[\"policy_code\"]==2.0,loanData[\"LoanApproved\"])"
   ]
  },
  {
   "cell_type": "code",
   "execution_count": null,
   "metadata": {
    "collapsed": true
   },
   "outputs": [],
   "source": [
    "clusterData=loanData[loanData[\"LoanApproved\"]==1]"
   ]
  },
  {
   "cell_type": "code",
   "execution_count": null,
   "metadata": {
    "collapsed": false,
    "scrolled": true
   },
   "outputs": [],
   "source": [
    "clusterData[\"FICO\"]"
   ]
  },
  {
   "cell_type": "code",
   "execution_count": null,
   "metadata": {
    "collapsed": false
   },
   "outputs": [],
   "source": [
    "clusterInputData=clusterData[[\"sub_grade\",\"derived_int_rate\",\"derived_annual_inc\",\"issue_year\",\"application_type\",\"Derived_term\",\"FICO\",\"derived_emp_length\",\"addr_state\",\"total_acc\",\"loan_amnt\",\"verification_status\",\"home_ownership\",\"acc_open_past_24mths\",\"revol_bal\",\"derived_mths_since_last_delinq\"]].copy()\n",
    "clusterInputData.to_csv(\"ClusterInputData.csv\")"
   ]
  },
  {
   "cell_type": "code",
   "execution_count": null,
   "metadata": {
    "collapsed": true
   },
   "outputs": [],
   "source": [
    "rejectedData=pd.read_csv(\"Cleaned_Rejected_Loans_Combined_Data.csv\")"
   ]
  },
  {
   "cell_type": "code",
   "execution_count": null,
   "metadata": {
    "collapsed": true
   },
   "outputs": [],
   "source": [
    "data3=rejectedData[[\"Amount Requested\",\"Loan Title\",\"Risk_Score\",\"Debt-To-Income Ratio\",\"Zip Code\",\"Employment Length\",\"State\",\"Policy Code\"]].copy()\n",
    "data3[\"LoanApproved\"]=0\n",
    "data3 = data3.rename(columns={'Amount Requested': 'loan_amnt', 'Loan Title': 'title', 'Risk_Score': 'FicoScore', 'Debt-To-Income Ratio': 'dti', 'Zip Code': 'zip_code', 'Employment Length': 'emp_length', 'State': 'addr_state', 'Policy Code': 'policy_code', 'LoanApproved': 'LoanApproved'})"
   ]
  },
  {
   "cell_type": "code",
   "execution_count": null,
   "metadata": {
    "collapsed": true
   },
   "outputs": [],
   "source": [
    "bigdata = loanData.append(data3, ignore_index=True)"
   ]
  },
  {
   "cell_type": "code",
   "execution_count": null,
   "metadata": {
    "collapsed": true
   },
   "outputs": [],
   "source": [
    "bigdata.to_csv('Classification_Input_Data.csv')"
   ]
  },
  {
   "cell_type": "code",
   "execution_count": null,
   "metadata": {
    "collapsed": true
   },
   "outputs": [],
   "source": []
  }
 ],
 "metadata": {
  "anaconda-cloud": {},
  "kernelspec": {
   "display_name": "Python [default]",
   "language": "python",
   "name": "python3"
  },
  "language_info": {
   "codemirror_mode": {
    "name": "ipython",
    "version": 3
   },
   "file_extension": ".py",
   "mimetype": "text/x-python",
   "name": "python",
   "nbconvert_exporter": "python",
   "pygments_lexer": "ipython3",
   "version": "3.5.2"
  }
 },
 "nbformat": 4,
 "nbformat_minor": 1
}
