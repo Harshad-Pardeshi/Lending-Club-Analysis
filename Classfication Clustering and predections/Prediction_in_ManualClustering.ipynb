{
 "cells": [
  {
   "cell_type": "code",
   "execution_count": null,
   "metadata": {
    "collapsed": true
   },
   "outputs": [],
   "source": [
    "import pip\n",
    "def install(package):\n",
    "   pip.main(['install', package])\n",
    "install('sklearn')"
   ]
  },
  {
   "cell_type": "code",
   "execution_count": null,
   "metadata": {
    "collapsed": false
   },
   "outputs": [],
   "source": [
    "import operator\n",
    "import pandas as pd\n",
    "import numpy as np\n",
    "from sklearn import preprocessing\n",
    "from sklearn.linear_model import LinearRegression\n",
    "from sklearn.feature_selection import RFE\n",
    "#from sklearn.model_selection import cross_val_score\n",
    "from sklearn.metrics import mean_squared_error, mean_absolute_error\n",
    "from sklearn.ensemble import RandomForestRegressor\n",
    "from sklearn.preprocessing import LabelEncoder\n",
    "from sklearn.neighbors import KNeighborsRegressor\n",
    "#from sklearn.neural_network import MLPRegressor\n",
    "# this allows plots to appear directly in the notebook %matplotlib inline\n",
    "import os, sys\n",
    "import random\n",
    "import sklearn\n",
    "\n",
    "from io import StringIO\n",
    "import requests\n",
    "import json\n",
    "import pandas as pd\n",
    "\n",
    "from sklearn import cross_validation"
   ]
  },
  {
   "cell_type": "code",
   "execution_count": null,
   "metadata": {
    "collapsed": true
   },
   "outputs": [],
   "source": [
    "# @hidden_cell\n",
    "# This function accesses a file in your Object Storage. The definition contains your credentials.\n",
    "# You might want to remove those credentials before you share your notebook.\n",
    "def get_object_storage_file_with_credentials_c7f0defad3214583a0e50570b758f494(container, filename):\n",
    "    \"\"\"This functions returns a StringIO object containing\n",
    "    the file content from Bluemix Object Storage.\"\"\"\n",
    "\n",
    "    url1 = ''.join(['https://identity.open.softlayer.com', '/v3/auth/tokens'])\n",
    "    data = {'auth': {'identity': {'methods': ['password'],\n",
    "            'password': {'user': {'name': 'member_71c37995ffbbb584d83c3b50834aee8fb7644399','domain': {'id': '9fcd7aa6e1a543c4a9cfdf0b063ef7fb'},\n",
    "            'password': 'NLy7[m{c]6TrGXwi'}}}}}\n",
    "    headers1 = {'Content-Type': 'application/json'}\n",
    "    resp1 = requests.post(url=url1, data=json.dumps(data), headers=headers1)\n",
    "    resp1_body = resp1.json()\n",
    "    for e1 in resp1_body['token']['catalog']:\n",
    "        if(e1['type']=='object-store'):\n",
    "            for e2 in e1['endpoints']:\n",
    "                        if(e2['interface']=='public'and e2['region']=='dallas'):\n",
    "                            url2 = ''.join([e2['url'],'/', container, '/', filename])\n",
    "    s_subject_token = resp1.headers['x-subject-token']\n",
    "    headers2 = {'X-Auth-Token': s_subject_token, 'accept': 'application/json'}\n",
    "    resp2 = requests.get(url=url2, headers=headers2)\n",
    "    return StringIO(resp2.text)"
   ]
  },
  {
   "cell_type": "code",
   "execution_count": null,
   "metadata": {
    "collapsed": false
   },
   "outputs": [],
   "source": [
    "data_1 = pd.read_csv(get_object_storage_file_with_credentials_c7f0defad3214583a0e50570b758f494('DefaultProjectkamathphuskyneuedu', 'ManualCluster1.csv'))\n",
    "#data_1.head()"
   ]
  },
  {
   "cell_type": "code",
   "execution_count": null,
   "metadata": {
    "collapsed": false
   },
   "outputs": [],
   "source": [
    "data_2 = pd.read_csv(get_object_storage_file_with_credentials_c7f0defad3214583a0e50570b758f494('DefaultProjectkamathphuskyneuedu', 'ManualCluster2.csv'))\n",
    "#data_2.head()"
   ]
  },
  {
   "cell_type": "code",
   "execution_count": null,
   "metadata": {
    "collapsed": false
   },
   "outputs": [],
   "source": [
    "data_3 = pd.read_csv(get_object_storage_file_with_credentials_c7f0defad3214583a0e50570b758f494('DefaultProjectkamathphuskyneuedu', 'ManualCluster3.csv'))\n",
    "#data_3.head()"
   ]
  },
  {
   "cell_type": "code",
   "execution_count": null,
   "metadata": {
    "collapsed": true
   },
   "outputs": [],
   "source": [
    "data_1 = data_1.drop(['Unnamed: 0','Unnamed: 0.1','percent_bc_gt_75','num_tl_op_past_12m','count','credit_age'], axis =1)"
   ]
  },
  {
   "cell_type": "code",
   "execution_count": null,
   "metadata": {
    "collapsed": true
   },
   "outputs": [],
   "source": [
    "data_2 = data_2.drop(['Unnamed: 0','Unnamed: 0.1','percent_bc_gt_75','num_tl_op_past_12m','count','credit_age'], axis =1)"
   ]
  },
  {
   "cell_type": "code",
   "execution_count": null,
   "metadata": {
    "collapsed": false,
    "scrolled": true
   },
   "outputs": [],
   "source": [
    "data_3 = data_3.drop(['Unnamed: 0','Unnamed: 0.1','percent_bc_gt_75','num_tl_op_past_12m','count','credit_age'], axis =1)"
   ]
  },
  {
   "cell_type": "code",
   "execution_count": null,
   "metadata": {
    "collapsed": true
   },
   "outputs": [],
   "source": [
    "number = LabelEncoder()\n",
    "\n",
    "data_1['sub_grade'] = number.fit_transform(data_1['sub_grade'].astype('str'))\n",
    "data_1['application_type'] = number.fit_transform(data_1['application_type'].astype('str'))\n",
    "data_1['addr_state'] = number.fit_transform(data_1['addr_state'].astype('str'))\n",
    "data_1['home_ownership'] = number.fit_transform(data_1['home_ownership'].astype('str'))\n",
    "data_1['verification_status'] = number.fit_transform(data_1['verification_status'].astype('str'))\n",
    "data_1['derived_emp_length'] = number.fit_transform(data_1['derived_emp_length'].astype('str'))"
   ]
  },
  {
   "cell_type": "code",
   "execution_count": null,
   "metadata": {
    "collapsed": true
   },
   "outputs": [],
   "source": [
    "data_2['sub_grade'] = number.fit_transform(data_2['sub_grade'].astype('str'))\n",
    "data_2['application_type'] = number.fit_transform(data_2['application_type'].astype('str'))\n",
    "data_2['addr_state'] = number.fit_transform(data_2['addr_state'].astype('str'))\n",
    "data_2['home_ownership'] = number.fit_transform(data_2['home_ownership'].astype('str'))\n",
    "data_2['verification_status'] = number.fit_transform(data_2['verification_status'].astype('str'))\n",
    "data_2['derived_emp_length'] = number.fit_transform(data_2['derived_emp_length'].astype('str'))\n"
   ]
  },
  {
   "cell_type": "code",
   "execution_count": null,
   "metadata": {
    "collapsed": true
   },
   "outputs": [],
   "source": [
    "data_3['sub_grade'] = number.fit_transform(data_3['sub_grade'].astype('str'))\n",
    "data_3['application_type'] = number.fit_transform(data_3['application_type'].astype('str'))\n",
    "data_3['addr_state'] = number.fit_transform(data_3['addr_state'].astype('str'))\n",
    "data_3['home_ownership'] = number.fit_transform(data_3['home_ownership'].astype('str'))\n",
    "data_3['verification_status'] = number.fit_transform(data_3['verification_status'].astype('str'))\n",
    "data_3['derived_emp_length'] = number.fit_transform(data_3['derived_emp_length'].astype('str'))\n"
   ]
  },
  {
   "cell_type": "code",
   "execution_count": null,
   "metadata": {
    "collapsed": false
   },
   "outputs": [],
   "source": [
    "data_1.dtypes"
   ]
  },
  {
   "cell_type": "code",
   "execution_count": null,
   "metadata": {
    "collapsed": true
   },
   "outputs": [],
   "source": [
    "train1, test1 = sklearn.cross_validation.train_test_split(data_1, train_size = 0.8)"
   ]
  },
  {
   "cell_type": "code",
   "execution_count": null,
   "metadata": {
    "collapsed": true
   },
   "outputs": [],
   "source": [
    "train2, test2 = sklearn.cross_validation.train_test_split(data_2, train_size = 0.8)"
   ]
  },
  {
   "cell_type": "code",
   "execution_count": null,
   "metadata": {
    "collapsed": true
   },
   "outputs": [],
   "source": [
    "train3, test3 = sklearn.cross_validation.train_test_split(data_3, train_size = 0.8)"
   ]
  },
  {
   "cell_type": "code",
   "execution_count": null,
   "metadata": {
    "collapsed": true
   },
   "outputs": [],
   "source": [
    "def calc_error(modelname, model, X_train, y_train, X_test, y_test):\n",
    "        global error_metric\n",
    "        y_train_predicted = model.predict(X_train)\n",
    "        y_test_predicted = model.predict(X_test)\n",
    "        \n",
    "        #MAE, RMS, MAPE\n",
    "        print(modelname,\"mean_squared_error train : \",mean_squared_error(y_train, y_train_predicted))\n",
    "        print(modelname,'mean_squared_error test : ',mean_squared_error(y_test, y_test_predicted))\n",
    "        \n",
    "        print(modelname,'mean_absolute_error train : ',mean_absolute_error(y_train, y_train_predicted))\n",
    "        print(modelname,'mean_absolute_error : ',mean_absolute_error(y_test, y_test_predicted))\n",
    "        \n",
    "        print(modelname,'mean_absolute_percent_error train : ',np.mean(np.abs((y_train - y_train_predicted) / y_train)) * 100)\n",
    "        print(modelname,'mean_absolute_percent_error test :',np.mean(np.abs((y_test - y_test_predicted) / y_test)) * 100)\n",
    "        "
   ]
  },
  {
   "cell_type": "code",
   "execution_count": null,
   "metadata": {
    "collapsed": false
   },
   "outputs": [],
   "source": [
    "X_train1 = train1.drop(['derived_int_rate'], axis=1)\n",
    "X_train2 = train2.drop(['derived_int_rate'], axis=1)\n",
    "X_train3 = train3.drop(['derived_int_rate'], axis=1)"
   ]
  },
  {
   "cell_type": "code",
   "execution_count": null,
   "metadata": {
    "collapsed": true
   },
   "outputs": [],
   "source": [
    "y_train1 = train1['derived_int_rate']\n",
    "y_train2 = train2['derived_int_rate']\n",
    "y_train3 = train3['derived_int_rate']"
   ]
  },
  {
   "cell_type": "code",
   "execution_count": null,
   "metadata": {
    "collapsed": false
   },
   "outputs": [],
   "source": [
    "X_test1 = train1.drop(['derived_int_rate'],axis=1)\n",
    "X_test2 = train2.drop(['derived_int_rate'],axis=1)\n",
    "X_test3 = train3.drop(['derived_int_rate'],axis=1)"
   ]
  },
  {
   "cell_type": "code",
   "execution_count": null,
   "metadata": {
    "collapsed": true
   },
   "outputs": [],
   "source": [
    "y_test1 = train1['derived_int_rate']\n",
    "y_test2 = train2['derived_int_rate']\n",
    "y_test3 = train3['derived_int_rate']"
   ]
  },
  {
   "cell_type": "code",
   "execution_count": null,
   "metadata": {
    "collapsed": false
   },
   "outputs": [],
   "source": [
    "X_train2.dropna() \n",
    "y_train2 = y_train2[pd.notnull(y_train2)]"
   ]
  },
  {
   "cell_type": "code",
   "execution_count": null,
   "metadata": {
    "collapsed": false
   },
   "outputs": [],
   "source": [
    "lr1 = LinearRegression()\n",
    "lr1.fit(X_train1, y_train1)\n",
    "calc_error('Regression Manual Cluster 1', lr1, X_train1, y_train1, X_test1, y_test1)\n",
    "print('Regression completed')"
   ]
  },
  {
   "cell_type": "code",
   "execution_count": null,
   "metadata": {
    "collapsed": false,
    "scrolled": false
   },
   "outputs": [],
   "source": [
    "lr2 = LinearRegression()\n",
    "lr2.fit(X_train2, y_train2)\n",
    "calc_error('Regression Manual Cluster 2', lr2, X_train2, y_train2, X_test2, y_test2)\n",
    "print('Regression completed')"
   ]
  },
  {
   "cell_type": "code",
   "execution_count": null,
   "metadata": {
    "collapsed": true
   },
   "outputs": [],
   "source": [
    "lr3 = LinearRegression()\n",
    "lr3.fit(X_train3, y_train3)\n",
    "calc_error('Regression Manual Cluster 2', lr3, X_train3, y_train3, X_test3, y_test3)\n",
    "print('Regression completed')"
   ]
  },
  {
   "cell_type": "code",
   "execution_count": null,
   "metadata": {
    "collapsed": true
   },
   "outputs": [],
   "source": []
  }
 ],
 "metadata": {
  "anaconda-cloud": {},
  "kernelspec": {
   "display_name": "Python [conda root]",
   "language": "python",
   "name": "conda-root-py"
  },
  "language_info": {
   "codemirror_mode": {
    "name": "ipython",
    "version": 3
   },
   "file_extension": ".py",
   "mimetype": "text/x-python",
   "name": "python",
   "nbconvert_exporter": "python",
   "pygments_lexer": "ipython3",
   "version": "3.5.2"
  }
 },
 "nbformat": 4,
 "nbformat_minor": 0
}
